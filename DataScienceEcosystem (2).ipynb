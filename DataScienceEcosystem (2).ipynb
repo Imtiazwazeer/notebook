{
 "cells": [
  {
   "cell_type": "markdown",
   "id": "53a7d6aa-c5df-4c6b-be87-1a47097c50dd",
   "metadata": {},
   "source": [
    "# Data Science Tools and Ecosystem"
   ]
  },
  {
   "cell_type": "markdown",
   "id": "e0587e45-984c-4c71-a5f8-e066678ed406",
   "metadata": {},
   "source": [
    "In this notebook, Data Science Tools and Ecosystem are summarized."
   ]
  },
  {
   "cell_type": "markdown",
   "id": "a304fa08-5dd9-4c03-b290-6dd00a06f561",
   "metadata": {},
   "source": [
    "Some of the popular languages that Data Scientists use are:\n",
    "\n",
    "1. **Python** – Widely used for its simplicity and powerful libraries like Pandas, NumPy, Scikit-learn, and TensorFlow.\n",
    "2. **R** – Preferred for statistical analysis and data visualization, with packages like ggplot2 and dplyr.\n",
    "3. **SQL** – Essential for querying and managing structured data in relational databases.\n",
    "4. **Julia** – Known for high-performance numerical computing and growing popularity in data science.\n",
    "5. **Scala** – Often used with Apache Spark for big data processing.\n",
    "\n",
    "\n"
   ]
  },
  {
   "cell_type": "markdown",
   "id": "f72c7e25-38df-4fe2-ae3e-d33804b1e569",
   "metadata": {},
   "source": [
    "| Data Science Tools         |\n",
    "|---------------------------|\n",
    "| Jupyter Notebook          |\n",
    "| RStudio                   |\n",
    "| VS Code                   |\n"
   ]
  },
  {
   "cell_type": "markdown",
   "id": "3899d05d-e3a0-4b8c-ace6-22eaed3db7f5",
   "metadata": {},
   "source": [
    "### Below are a few examples of evaluating arithmetic expressions in Python.\n"
   ]
  },
  {
   "cell_type": "code",
   "execution_count": 5,
   "id": "12564a31-38ae-41d3-ac1e-59cc92736fd6",
   "metadata": {},
   "outputs": [
    {
     "name": "stdout",
     "output_type": "stream",
     "text": [
      "17\n"
     ]
    }
   ],
   "source": [
    "# This is a simple arithmetic expression to multiply then add integers\n",
    "\n",
    "result = (3 * 4) + 5\n",
    "print(result)\n",
    "\n"
   ]
  },
  {
   "cell_type": "code",
   "execution_count": 6,
   "id": "9ed8e355-6a98-4e16-ba27-fa99e9533c2b",
   "metadata": {},
   "outputs": [
    {
     "name": "stdout",
     "output_type": "stream",
     "text": [
      "3.3333333333333335\n"
     ]
    }
   ],
   "source": [
    "# This will convert 200 minutes to hours by dividing by 60\n",
    "hours = 200 / 60\n",
    "print(hours)\n"
   ]
  },
  {
   "cell_type": "markdown",
   "id": "f67ca327-0ec5-4360-9ccb-a342eb791621",
   "metadata": {},
   "source": [
    "**Objectives:**\n",
    "\n",
    "- List popular languages for Data Science\n",
    "- Create tables using markdown\n",
    "- Perform basic arithmetic operations in Python\n",
    "- Convert units using Python expressions\n",
    "- Understand how to format markdown cells with headings and lists\n"
   ]
  },
  {
   "cell_type": "markdown",
   "id": "9350965c-6800-48ec-9028-c38573624c93",
   "metadata": {},
   "source": []
  },
  {
   "cell_type": "markdown",
   "id": "17ddbc29",
   "metadata": {},
   "source": [
    "## Author\n",
    "Imtiaz Hussain\n"
   ]
  }
 ],
 "metadata": {
  "kernelspec": {
   "display_name": "Python 3",
   "language": "python",
   "name": "python3"
  },
  "language_info": {
   "codemirror_mode": {
    "name": "ipython",
    "version": 3
   },
   "file_extension": ".py",
   "mimetype": "text/x-python",
   "name": "python",
   "nbconvert_exporter": "python",
   "pygments_lexer": "ipython3",
   "version": "3.11.9"
  }
 },
 "nbformat": 4,
 "nbformat_minor": 5
}
